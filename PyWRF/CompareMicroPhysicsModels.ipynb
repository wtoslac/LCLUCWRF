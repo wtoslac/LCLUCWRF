{
 "cells": [
  {
   "cell_type": "code",
   "execution_count": null,
   "id": "9732ecd3-91c4-4c4e-846b-5569f7a59624",
   "metadata": {},
   "outputs": [],
   "source": [
    "## Loading the Libaries.\n",
    "import numpy as np\n",
    "import matplotlib.pyplot as plt\n",
    "from netCDF4 import Dataset\n",
    "from wrf import getvar, to_np, get_cartopy, latlon_coords, ll_to_xy, vertcross, interplevel,ALL_TIMES\n",
    "import cartopy as cp\n",
    "from glob import glob\n",
    "from PyWRFFun import MonthTimeSeries, MonthGlob\n",
    "\n",
    "# === Inputs ===\n",
    "Var = \"T2\"\n",
    "VarLabel = \"Two-Meter Temperature [°C]\"\n",
    "lat_point = 38.593322\n",
    "lon_point = -121.503795\n",
    "## Load the EPA Data Input File\n",
    "DataVal = (np.loadtxt(\"/data/wto/EPAMetData/hourly_TEMP_2020_06_Sac.csv\", delimiter=',',usecols=[13])-32)*5/9\n",
    "DataVal[0] = -9999\n",
    "DataVal[1] = -9999\n",
    "\n",
    "# === Get monthly WRF Values ===\n",
    "WRFFiles = [\"/data/wto/WRFOUT/Sac_NDown_UCM1_PBL1_FDDA1_250714/wrfout_d01_2020-06-*\",\n",
    "            \"/data/wto/WRFOUT/Sac_NDown_UCM1_PBL1_MP1_FDDA1_250716/wrfout_d01_2020-06-*\",\n",
    "            \"/data/wto/WRFOUT/Sac_NDown_UCM1_PBL1_MP6_FDDA1_250718/wrfout_d01_2020-06-*\",\n",
    "            \"/data/wto/WRFOUT/Sac_NDown_UCM1_PBL1_MP38_FDDA1_250719/wrfout_d01_2020-06-*\"]\n",
    "Time, Vals = MonthGlob(WRFFiles, Var, lat_point, lon_point, offset=-273.15)\n",
    "# Concatenate the Data and WRF Values The [] around DataVal is needed to make sure it adds the array into the list.\n",
    "Vals = [DataVal] + Vals\n",
    "# === Call MonthTimeSeries plot function ===\n",
    "results = MonthTimeSeries(Time,Vals,VarLabel, [\"EPA Data\",\"Thomspon1M\",\"Kessler\",\"WRF1M6Class\",\"Thompson2M\"],Show=True)\n",
    "print(results)"
   ]
  },
  {
   "cell_type": "code",
   "execution_count": null,
   "id": "b39ead2d-adee-4213-af14-21e064f18fef",
   "metadata": {},
   "outputs": [
    {
     "name": "stdout",
     "output_type": "stream",
     "text": [
      "718\n"
     ]
    }
   ],
   "source": [
    "## Loading the Libaries.\n",
    "import numpy as np\n",
    "import matplotlib.pyplot as plt\n",
    "from netCDF4 import Dataset\n",
    "from wrf import getvar, to_np, get_cartopy, latlon_coords, ll_to_xy, vertcross, interplevel,ALL_TIMES\n",
    "import cartopy as cp\n",
    "from glob import glob\n",
    "from PyWRFFun import MonthTimeSeries, MonthGlob\n",
    "\n",
    "# === Inputs ===\n",
    "Var = \"T2\"\n",
    "Title = \"Time Series of Two-Meter Temperature [°C]\"\n",
    "YLabel = \"Two-Meter Temperature [°C]\"\n",
    "lat_point = 37.689\n",
    "lon_point = -121.4415\n",
    "## Load the EPA Data Input File\n",
    "DataVal = np.genfromtxt(\"output.csv\", delimiter=',', usecols=4, skip_header=1, dtype=float, missing_values=\"\", filling_values=np.nan)\n",
    "#print(len(DataVal))\n",
    "\n",
    "# === Get monthly WRF Values ===\n",
    "WRFFiles = [\"/data/wto/WRFOUT/Sac_NDown_UCM1_PBL1_FDDA1_250714/wrfout_d01_2020-06-*\",\n",
    "            \"/data/wto/WRFOUT/Sac_NDown_UCM1_PBL1_MP1_FDDA1_250716/wrfout_d01_2020-06-*\",\n",
    "            \"/data/wto/WRFOUT/Sac_NDown_UCM1_PBL1_MP6_FDDA1_250718/wrfout_d01_2020-06-*\",\n",
    "            \"/data/wto/WRFOUT/Sac_NDown_UCM1_PBL1_MP38_FDDA1_250719/wrfout_d01_2020-06-*\"]\n",
    "Time, Vals = MonthGlob(WRFFiles, Var, lat_point, lon_point, offset=-273.15)\n",
    "# Concatenate the Data and WRF Values The [] around DataVal is needed to make sure it adds the array into the list.\n",
    "Vals = [DataVal] + Vals\n",
    "# === Call MonthTimeSeries plot function ===\n",
    "results = MonthTimeSeries(Time,Vals,Title,YLabel, [\"EPA Data\",\"Thomspon1M\",\"Kessler\",\"WRF1M6Class\",\"Thompson2M\"],Show=True)\n",
    "print(results)"
   ]
  },
  {
   "cell_type": "code",
   "execution_count": null,
   "id": "33c684ea-0f5f-4ed6-9387-0d8f391e55ab",
   "metadata": {},
   "outputs": [],
   "source": [
    "## Loading the Libaries.\n",
    "import numpy as np\n",
    "import matplotlib.pyplot as plt\n",
    "from netCDF4 import Dataset\n",
    "from wrf import getvar, to_np, get_cartopy, latlon_coords, ll_to_xy, vertcross, interplevel,ALL_TIMES\n",
    "import cartopy as cp\n",
    "from glob import glob\n",
    "from PyWRFFun import MonthTimeSeries, MonthGlob\n",
    "\n",
    "# === Inputs ===\n",
    "Var = \"Q2\"\n",
    "VarLabel = \"Water vapor mixing ratio 2m [kg/kg]\"\n",
    "lat_point = 37.689\n",
    "lon_point = -121.4415\n",
    "\n",
    "# === Get monthly WRF Values ===\n",
    "WRFFiles = [\"/data/wto/WRFOUT/Sac_NDown_UCM1_PBL1_FDDA1_250714/wrfout_d01_2020-06-*\",\n",
    "            \"/data/wto/WRFOUT/Sac_NDown_UCM1_PBL1_MP1_FDDA1_250716/wrfout_d01_2020-06-*\"]\n",
    "Time, Vals = MonthGlob(WRFFiles, Var, lat_point, lon_point, offset=0)\n",
    "# Concatenate the Data and WRF Values The [] around DataVal is needed to make sure it adds the array into the list.\n",
    "# === Call MonthTimeSeries plot function ===\n",
    "results = MonthTimeSeries(Time,Vals,VarLabel, [\"Thomspon1M\",\"Kessler\"],Show=True)\n",
    "print(results)"
   ]
  },
  {
   "cell_type": "code",
   "execution_count": null,
   "id": "87cf53df-9df1-45d2-9a17-1700ae0bd88e",
   "metadata": {},
   "outputs": [],
   "source": []
  }
 ],
 "metadata": {
  "kernelspec": {
   "display_name": "Python 3 (ipykernel)",
   "language": "python",
   "name": "python3"
  },
  "language_info": {
   "codemirror_mode": {
    "name": "ipython",
    "version": 3
   },
   "file_extension": ".py",
   "mimetype": "text/x-python",
   "name": "python",
   "nbconvert_exporter": "python",
   "pygments_lexer": "ipython3",
   "version": "3.10.16"
  }
 },
 "nbformat": 4,
 "nbformat_minor": 5
}
