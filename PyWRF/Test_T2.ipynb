{
 "cells": [
  {
   "cell_type": "code",
   "execution_count": null,
   "id": "d657fa62-0279-4022-8cca-a5f58562ac65",
   "metadata": {},
   "outputs": [],
   "source": [
    "from T2_TimeSeries import T2_TimeSeries\n",
    "\n",
    "T2_TimeSeries(\"/data/wto/EPAMetData/hourly_TEMP_2020_06_Sac.csv\",\"/data/wto/WRFOUT/Sac_NDown_UCM1_PBL2_FDDA0_250518/wrfout_d01_2020-06-*\",\"/data/wto/WRFOUT/Sac_NDown_UCM1_PBL2_FDDA1_250710/wrfout_d01_2020-06-*\")"
   ]
  },
  {
   "cell_type": "code",
   "execution_count": null,
   "id": "75c71cb5-7c1d-4829-8785-4d0ae9f1e5da",
   "metadata": {},
   "outputs": [],
   "source": []
  }
 ],
 "metadata": {
  "kernelspec": {
   "display_name": "Python 3 (ipykernel)",
   "language": "python",
   "name": "python3"
  },
  "language_info": {
   "codemirror_mode": {
    "name": "ipython",
    "version": 3
   },
   "file_extension": ".py",
   "mimetype": "text/x-python",
   "name": "python",
   "nbconvert_exporter": "python",
   "pygments_lexer": "ipython3",
   "version": "3.10.16"
  }
 },
 "nbformat": 4,
 "nbformat_minor": 5
}
