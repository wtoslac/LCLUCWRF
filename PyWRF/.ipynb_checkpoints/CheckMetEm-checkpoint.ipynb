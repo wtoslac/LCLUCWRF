{
 "cells": [
  {
   "cell_type": "code",
   "execution_count": null,
   "id": "5ecf537b-c2d0-4130-9400-cc365669f558",
   "metadata": {},
   "outputs": [],
   "source": [
    "import numpy as np\n",
    "from netCDF4 import Dataset\n",
    "import matplotlib.pyplot as plt\n",
    "import cartopy.crs as ccrs\n",
    "import cartopy.feature as cfeature\n",
    "\n",
    "# Load the met_em NetCDF file\n",
    "ncfile = Dataset(\"/data/wto/WRFNDown/WPS-4.5/met_em.d01.2020-06-01_00:00:00.nc\", mode='r')\n",
    "\n",
    "# Read lat/lon and 2-m temperature\n",
    "lats = ncfile.variables['XLAT_M'][0, :, :]\n",
    "lons = ncfile.variables['XLONG_M'][0, :, :]\n",
    "t2 = ncfile.variables['T2'][0, :, :] - 273.15  # Convert from Kelvin to Celsius\n",
    "\n",
    "# Coordinates of Sacramento and Turlock\n",
    "sacramento_lat, sacramento_lon = 38.5816, -121.4944\n",
    "turlock_lat, turlock_lon = 37.4947, -120.8466\n",
    "\n",
    "# Set up the plot\n",
    "fig, ax = plt.subplots(figsize=(10, 8),\n",
    "                       subplot_kw={'projection': ccrs.PlateCarree()})\n",
    "\n",
    "# Plot domain edges\n",
    "ax.plot(lons[0, :], lats[0, :], 'k-')      # bottom\n",
    "ax.plot(lons[-1, :], lats[-1, :], 'k-')    # top\n",
    "ax.plot(lons[:, 0], lats[:, 0], 'k-')      # left\n",
    "ax.plot(lons[:, -1], lats[:, -1], 'k-')    # right\n",
    "\n",
    "# Plot the 2-meter temperature field\n",
    "mesh = ax.pcolormesh(lons, lats, t2, cmap='coolwarm', shading='auto', vmin=0, vmax=40)\n",
    "\n",
    "# Add map features\n",
    "ax.coastlines(resolution='10m')\n",
    "ax.add_feature(cfeature.BORDERS, linestyle=':')\n",
    "ax.add_feature(cfeature.STATES, linestyle=':', edgecolor='gray')\n",
    "\n",
    "# Add stars for Sacramento and Turlock\n",
    "ax.plot(sacramento_lon, sacramento_lat, marker='*', color='red', markersize=12, label='Sacramento')\n",
    "ax.plot(turlock_lon, turlock_lat, marker='*', color='blue', markersize=12, label='Turlock')\n",
    "\n",
    "# Add labels\n",
    "ax.text(sacramento_lon + 0.1, sacramento_lat, \"Sacramento\", fontsize=10, color='red')\n",
    "ax.text(turlock_lon + 0.1, turlock_lat, \"Turlock\", fontsize=10, color='blue')\n",
    "\n",
    "# Colorbar and title\n",
    "plt.colorbar(mesh, ax=ax, label='2-m Temperature (°C)')\n",
    "ax.set_title('2-m Temperature from met_em File')\n",
    "\n",
    "plt.legend()\n",
    "plt.show()\n"
   ]
  }
 ],
 "metadata": {
  "kernelspec": {
   "display_name": "Python 3 (ipykernel)",
   "language": "python",
   "name": "python3"
  },
  "language_info": {
   "codemirror_mode": {
    "name": "ipython",
    "version": 3
   },
   "file_extension": ".py",
   "mimetype": "text/x-python",
   "name": "python",
   "nbconvert_exporter": "python",
   "pygments_lexer": "ipython3",
   "version": "3.10.16"
  }
 },
 "nbformat": 4,
 "nbformat_minor": 5
}
